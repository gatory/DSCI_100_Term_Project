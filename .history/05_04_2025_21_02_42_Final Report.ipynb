{
 "cells": [
  {
   "cell_type": "markdown",
   "id": "70f89cf3-a990-429e-8645-d17cb0d46dbb",
   "metadata": {},
   "source": [
    "# Analyzing the Predictability of Different Player Types (Final Group Report)"
   ]
  },
  {
   "cell_type": "markdown",
   "id": "efe9fec4-39c2-4e25-882d-b6f38c9b9577",
   "metadata": {},
   "source": [
    "## Introduction\n",
    "\n",
    "- ### Background Information\n",
    "    - In this project, we explored how player characteristics and behaviour might help predict whether a player subscribes to a game-related newsletter. We were provided with two datasets: players.csv and sessions.csv. For this analysis, we focused on the players.csv file. Each player/observation contains the columns experience, subscribe status, hashed email, played hours, name, gender and age.\n",
    "\n",
    "- ### Question\n",
    "    - **Can the player type, age and played hours of players.csv predict if they are going to subscribe to a game-related newsletter and which player type is the most predictive?**\n",
    "\n",
    "- ### Reason for Chosen Predictors\n",
    "    - Played_hours tells us how much time each player has spent on the server. Our assumption is that players who spend more time playing are more engaged in the game and more likely to want updates, news, or event announcements, which things that are typically shared through newsletters. So, higher played hours might be linked to a greater chance of subscribing.\n",
    "    - Experience provides extra context beyond just how long someone has played. Two players might have the same number of hours, but very different levels of skill or game knowledge. We included this variable to see whether more experienced players are more likely to subscribe, or if newer players are more eager to receive tips and updates through the newsletter.\n",
    "    - Age is a basic but important factor. Players of different ages often have different habits. Younger players might be more likely to stay connected with game updates and community content, while older players might not be as interested. So age could help us spot differences in who’s more likely to subscribe.\n",
    "\n",
    "- ### Description of Dataset\n",
    "| Variable        | Type           | Description                                |\n",
    "|-----------------|----------------|--------------------------------------------|\n",
    "| hashedEmail     | Character      | Hashed email address of player             |\n",
    "| experience      | Character      | Self-reported skill level                  |\n",
    "| subscribe       | Logical        | Subscribed to newsletter (Yes/No)          |\n",
    "| played_hours    | Numeric (dbl)   | Total hours played on server               |\n",
    "| name            | Character      | Player's chosen name                       |\n",
    "| gender          | Character      | Gender reported by player                  |\n",
    "| Age             | Numeric (dbl)   | Player Age                                 |\n",
    "\n",
    " - The dataset we will be using is players.csv. There are 196 observations and 7 variables in this dataset. Issues in players.csv include missing age values and potential outliers in played_hours, where some players have much higher playtime.\n",
    " - The data was collected from players who voluntarily joined the Minecraft server. Demographic data was self-reported, while session data was logged automatically. \n",
    "\n",
    "- ### Assumptions and Limitations:\n",
    "    - Potential issues include bias from self-reported data (e.g., experience) and sampling bias, as it only includes players who chose to participate.\n",
    "    - Assumes independent observations, which may not fully apply since gaming sessions can be correlated\n",
    "    - The relationships between predictors and subscription status may not be perfectly linear, which could impact model performance.\n",
    "    - May require balancing if peak vs non-peak times are imbalanced.\n"
   ]
  },
  {
   "cell_type": "markdown",
   "id": "f5d4392d-b9a5-406e-9416-4fe69e667117",
   "metadata": {},
   "source": [
    "## Methods & Results"
   ]
  },
  {
   "cell_type": "markdown",
   "id": "672a3ecc-e184-4b1b-aed5-09262d5d3b21",
   "metadata": {},
   "source": [
    "- ### Loading Libraries\n",
    "    - Here, we load the necessary libraries we need for the rest of the project using the library() function. This includes the repr, tidyverse, and tidymodels libraries which will help us manipulate , compute, and visualize data."
   ]
  },
  {
   "cell_type": "code",
   "execution_count": null,
   "id": "3c9ab500-bd1c-4b04-a2d5-19e3ccf0cde3",
   "metadata": {},
   "outputs": [],
   "source": [
    "library(repr)\n",
    "library(tidyverse)\n",
    "library(tidymodels)"
   ]
  },
  {
   "cell_type": "markdown",
   "id": "5b2f9a94-31e3-47d9-a300-d1df366b7b4e",
   "metadata": {},
   "source": [
    "- ### Reading Data\n",
    "    - Here we read the \"players.csv\" dataset from a URL using the read_csv() function and display the first five rows using the slice_head() function to ensure that the dataset was read properly."
   ]
  },
  {
   "cell_type": "code",
   "execution_count": null,
   "id": "b0e3c41a-5039-477f-ae51-46fae2b61d19",
   "metadata": {},
   "outputs": [],
   "source": [
    "player <- read_csv(\"https://raw.githubusercontent.com/gatory/DSCI_100_Term_Project/refs/heads/main/data/players.csv\")\n",
    "slice_head(player, n=5)"
   ]
  },
  {
   "cell_type": "markdown",
   "id": "21916b51-27bb-4e3d-a99e-017f9e378514",
   "metadata": {},
   "source": [
    "- ### Wrangling Data\n",
    "    - Here, we remove data that is unnecessary for our purposes from the dataset (columns \"HashedEmail\", \"gender\" and \"name\") using the select() function\n",
    "    - Reassign \"subscribe\" variable to be a factor data type rather than a logical data type and changed its values to be either 'Yes' or 'No' using the mutate() function.\n",
    "    - We display the first five rows using the slice_head() function to ensure that the dataset was altered properly."
   ]
  },
  {
   "cell_type": "code",
   "execution_count": null,
   "id": "9b7b2aa1-89b9-4b3d-bbea-7c9d42def2c6",
   "metadata": {},
   "outputs": [],
   "source": [
    "tidy_player <- player |> \n",
    "    select(-hashedEmail, -gender, -name) |>\n",
    "    mutate(experience = as_factor(experience), subscribe = as_factor(subscribe)) |>\n",
    "    mutate(subscribe = recode(subscribe, \"TRUE\" = \"Yes\", \"FALSE\" = \"No\"))\n",
    "slice_head(tidy_player, n=5)"
   ]
  },
  {
   "cell_type": "markdown",
   "id": "2bdb58c3-cd45-43af-9d08-3ded4b88e103",
   "metadata": {},
   "source": [
    "- ### Summarizing Data\n",
    "    - Here we display a general summary of the new dataset using the summarize() function to calculate the average hours played by all players as well as the average age of all players."
   ]
  },
  {
   "cell_type": "code",
   "execution_count": null,
   "id": "1260863e-ff35-434d-a9ed-a7106de86acf",
   "metadata": {},
   "outputs": [],
   "source": [
    "tidy_player_mean <- tidy_player |> group_by(experience, subscribe) |> summarize(player_hours_mean = mean(played_hours, na.rm = TRUE), age_mean = mean(Age, na.rm = TRUE))\n",
    "tidy_player_mean"
   ]
  },
  {
   "cell_type": "markdown",
   "id": "08df7438-0a21-441a-b463-c8f9e8fee2b8",
   "metadata": {},
   "source": [
    "- ### Visualizing Data\n",
    "    - Here we display two graphs using the ggplot() function.\n",
    "        - The first is a scatterplot titled \"Hours Played vs. Age Relationship\" and shows the hours played of each players over the their age and whether they are subscribed or not.\n",
    "        - The second is a bar graph titled \"Distribution of Players Across Experience and Subscription\" and shows the relative amount of players subscribed across all player types.\n",
    "    - Graph visualization suggests there may be some corralation between whether a player is subscribe and their age and  played hours"
   ]
  },
  {
   "cell_type": "code",
   "execution_count": null,
   "id": "434b50c7-98d9-4fb2-9274-7c2b95651e84",
   "metadata": {},
   "outputs": [],
   "source": [
    "options(repr.plot.width = 10, repr.plot.height = 8) \n",
    "tidy_player_age_plot <- tidy_player |>\n",
    "    ggplot(aes(x = Age, y = played_hours, color = subscribe)) +\n",
    "    geom_point(alpha = 0.9) + \n",
    "\tscale_x_log10() +\n",
    "    scale_y_log10() +\n",
    "    labs(x = \"Age (years)\", y = \"Hours Played (hours)\", color = \"Subscribed?\") +\n",
    "    ggtitle(\"Hours Played vs. Age Relationship (Fig. 1)\") +\n",
    "    theme(text = element_text(size = 18))\n",
    "\n",
    "tidy_players_experience_plot <- tidy_player |>\n",
    "    ggplot(aes(y = experience, fill = subscribe)) +\n",
    "    geom_bar(stat = \"count\") +\n",
    "    labs(x = \"Number of Players\", y = \"Player Type\", fill = \"Subscribed?\") +\n",
    "    ggtitle(\"Distribution of Players Across Experience and Subscription (Fig.2)\") +\n",
    "    theme(text = element_text(size = 18))\n",
    "\n",
    "tidy_player_age_plot\n",
    "tidy_players_experience_plot"
   ]
  },
  {
   "cell_type": "markdown",
   "id": "b873284e-4610-4e19-9841-c9b82f4326c8",
   "metadata": {},
   "source": [
    "- ### Modeling Data"
   ]
  },
  {
   "cell_type": "markdown",
   "id": "0556933d-2693-4d3d-b972-d7ec1d2aaa3d",
   "metadata": {},
   "source": [
    "- #### Universal Tuning Specifications for Subscription Prediction\n",
    "    - Here we use the nearest_neighbors() function to create the specifications that we will later use to tune all the individual player type models. "
   ]
  },
  {
   "cell_type": "code",
   "execution_count": null,
   "id": "737a4727-2400-4653-a516-bd0bf976c3c1",
   "metadata": {},
   "outputs": [],
   "source": [
    "set.seed(4923)\n",
    "knn_spec <- nearest_neighbor(weight_func = \"rectangular\", neighbors = tune()) |>\n",
    "    set_engine(\"kknn\") |>\n",
    "    set_mode(\"classification\")"
   ]
  },
  {
   "cell_type": "markdown",
   "id": "6c82f54e-84d2-4bb8-a134-4a2e18307277",
   "metadata": {},
   "source": [
    "- #### Filter and Split Datasets\n",
    "    - Here we use the filter() function to select only the rows for each player type and assign them to individual data sets.\n",
    "    - For each player type data set, we split the data into training and testing sets so that our model will not see the data that will be used to test it."
   ]
  },
  {
   "cell_type": "code",
   "execution_count": null,
   "id": "11200293-d17a-4d83-8cf4-cad614701e92",
   "metadata": {},
   "outputs": [],
   "source": [
    "set.seed(4923)\n",
    "beginner_players <- tidy_player |> filter(experience == \"Beginner\")\n",
    "beginner_split <- initial_split(beginner_players, prop = 0.75, strata = subscribe)\n",
    "beginner_train <- training(beginner_split)\n",
    "beginner_test <- testing(beginner_split)\n",
    "\n",
    "regular_players <- tidy_player |> filter(experience == \"Regular\")\n",
    "regular_split <- initial_split(regular_players, prop = 0.75, strata = subscribe)\n",
    "regular_train <- training(regular_split)\n",
    "regular_test <- testing(regular_split)\n",
    "\n",
    "amateur_players <- tidy_player |> filter(experience == \"Amateur\")\n",
    "amateur_split <- initial_split(amateur_players, prop = 0.75, strata = subscribe)\n",
    "amateur_train <- training(amateur_split)\n",
    "amateur_test <- testing(amateur_split)\n",
    "\n",
    "veteran_players <- tidy_player |> filter(experience == \"Veteran\")\n",
    "veteran_split <- initial_split(veteran_players, prop = 0.75, strata = subscribe)\n",
    "veteran_train <- training(veteran_split)\n",
    "veteran_test <- testing(veteran_split)\n",
    "\n",
    "pro_players <- tidy_player |> filter(experience == \"Pro\") |> na.omit()\n",
    "pro_split <- initial_split(pro_players, prop = 0.75, strata = subscribe)\n",
    "pro_train <- training(pro_split)\n",
    "pro_test <- testing(pro_split)"
   ]
  },
  {
   "cell_type": "markdown",
   "id": "9b5c5338-6f73-41a7-9c05-ee4084d09bfd",
   "metadata": {},
   "source": [
    "- #### Folding 5 Folds for each player type\n",
    "    - Here we create the vfold for each player type data set so we can use it to cross validate our predictions"
   ]
  },
  {
   "cell_type": "code",
   "execution_count": null,
   "id": "dfc1faa2-4428-408d-a3aa-5adf819b052f",
   "metadata": {},
   "outputs": [],
   "source": [
    "set.seed(4923)\n",
    "beginner_vfold <- vfold_cv(beginner_train, v = 5, strata = subscribe)\n",
    "regular_vfold <- vfold_cv(regular_train, v = 5, strata = subscribe)\n",
    "amateur_vfold <- vfold_cv(amateur_train, v = 5, strata = subscribe)\n",
    "veteran_vfold <- vfold_cv(veteran_train, v = 5, strata = subscribe)\n",
    "pro_vfold <- vfold_cv(pro_train, v = 5, strata = subscribe)"
   ]
  },
  {
   "cell_type": "markdown",
   "id": "d20778c3-02be-4521-92aa-7cd43a759f4c",
   "metadata": {},
   "source": [
    "- #### Tuning Model using a suitable range of Ks\n",
    "    - Here, we find a suitable range for k based on how many observations exist for each player type data set. \n",
    "        - Because each of the player types has a different number of observations, we use the largest range of k-values possible so that we can give each player type the best possible k value once that value is determined."
   ]
  },
  {
   "cell_type": "code",
   "execution_count": null,
   "id": "fec07ce5-9ff6-4c07-8432-8aeba7b7b7a6",
   "metadata": {},
   "outputs": [],
   "source": [
    "# Tune for best k given proper range\n",
    "set.seed(4923)\n",
    "beginner_k_vals <- tibble(neighbors = seq(from = 1, to = 10, by = 1))\n",
    "beginner_recipe <- recipe(subscribe ~ played_hours + Age, data = beginner_train) |>\n",
    "  step_scale(all_predictors()) |>\n",
    "  step_center(all_predictors())\n",
    "beginner_fit <- workflow() |>\n",
    "  add_recipe(beginner_recipe) |>\n",
    "  add_model(knn_spec) |>\n",
    "  tune_grid(resamples = beginner_vfold, grid = beginner_k_vals)\n",
    "\n",
    "regular_k_vals <- tibble(neighbors = seq(from = 1, to = 10, by = 1))\n",
    "regular_recipe <- recipe(subscribe ~ played_hours + Age, data = regular_train) |>\n",
    "  step_scale(all_predictors()) |>\n",
    "  step_center(all_predictors())\n",
    "regular_fit <- workflow() |>\n",
    "  add_recipe(regular_recipe) |>\n",
    "  add_model(knn_spec) |>\n",
    "  tune_grid(resamples = regular_vfold, grid = regular_k_vals)\n",
    "\n",
    "amateur_k_vals <- tibble(neighbors = seq(from = 1, to = 20, by = 1))\n",
    "amateur_recipe <- recipe(subscribe ~ played_hours + Age, data = amateur_train) |>\n",
    "  step_scale(all_predictors()) |>\n",
    "  step_center(all_predictors())\n",
    "amateur_fit <- workflow() |>\n",
    "  add_recipe(amateur_recipe) |>\n",
    "  add_model(knn_spec) |>\n",
    "  tune_grid(resamples = amateur_vfold, grid = amateur_k_vals)\n",
    "\n",
    "veteran_k_vals <- tibble(neighbors = seq(from = 1, to = 22, by = 1))\n",
    "veteran_recipe <- recipe(subscribe ~ played_hours + Age, data = veteran_train) |>\n",
    "  step_scale(all_predictors()) |>\n",
    "  step_center(all_predictors())\n",
    "veteran_fit <- workflow() |>\n",
    "  add_recipe(veteran_recipe) |>\n",
    "  add_model(knn_spec) |>\n",
    "  tune_grid(resamples = veteran_vfold, grid = veteran_k_vals)\n",
    "\n",
    "pro_k_vals <- tibble(neighbors = seq(from = 1, to = 6, by = 1))\n",
    "pro_recipe <- recipe(subscribe ~ played_hours + Age, data = pro_train) |>\n",
    "  step_scale(all_predictors()) |>\n",
    "  step_center(all_predictors())\n",
    "pro_fit <- workflow() |>\n",
    "  add_recipe(pro_recipe) |>\n",
    "  add_model(knn_spec) |>\n",
    "  tune_grid(resamples = pro_vfold, grid = pro_k_vals)"
   ]
  },
  {
   "cell_type": "markdown",
   "id": "da5d6e59-0f40-4c9a-84f4-a2fe7ef0a29a",
   "metadata": {},
   "source": [
    "- #### Analyzing Accuracies and Picking Best K\n",
    "    - Here, we analyze the accuracies of the predictions made using each k value in each range for each player type.\n",
    "        - Based on the accuracy for each k value, we can choose the best one, the one with the highest accuracy, to use in our final model that we will test using the test data. "
   ]
  },
  {
   "cell_type": "code",
   "execution_count": null,
   "id": "d89a566c-354a-4563-942e-1b6a0861ec02",
   "metadata": {},
   "outputs": [],
   "source": [
    "# Analyze for best k\n",
    "options(repr.plot.width = 5, repr.plot.height = 5)\n",
    "set.seed(4923)\n",
    "beginner_accuracies <- beginner_fit |> collect_metrics() |>\n",
    "  filter(.metric == \"accuracy\")\n",
    "beginner_cross_val_plot <- ggplot(beginner_accuracies, aes(x = neighbors, y = mean)) +\n",
    "    geom_point() +\n",
    "    geom_line() +\n",
    "    labs(x = \"Neighbors\", y = \"Accuracy Estimate\", title = \"Beginner Accuracies\") +\n",
    "    theme(text = element_text(size = 12))\n",
    "\n",
    "regular_accuracies <- regular_fit |> collect_metrics() |>\n",
    "  filter(.metric == \"accuracy\")\n",
    "regular_cross_val_plot <- ggplot(regular_accuracies, aes(x = neighbors, y = mean)) +\n",
    "    geom_point() +\n",
    "    geom_line() +\n",
    "    labs(x = \"Neighbors\", y = \"Accuracy Estimate\", title = \"Regular Accuracies\") +\n",
    "    theme(text = element_text(size = 12))\n",
    "\n",
    "amateur_accuracies <- amateur_fit |> collect_metrics() |>\n",
    "  filter(.metric == \"accuracy\")\n",
    "amateur_cross_val_plot <- ggplot(amateur_accuracies, aes(x = neighbors, y = mean)) +\n",
    "    geom_point() +\n",
    "    geom_line() +\n",
    "    labs(x = \"Neighbors\", y = \"Accuracy Estimate\", title = \"Amateur Accuracies\") +\n",
    "    theme(text = element_text(size = 12))\n",
    "\n",
    "veteran_accuracies <- veteran_fit |> collect_metrics() |>\n",
    "  filter(.metric == \"accuracy\")\n",
    "veteran_cross_val_plot <- ggplot(veteran_accuracies, aes(x = neighbors, y = mean)) +\n",
    "    geom_point() +\n",
    "    geom_line() +\n",
    "    labs(x = \"Neighbors\", y = \"Accuracy Estimate\", title = \"Veteran Accuracies\") +\n",
    "    theme(text = element_text(size = 12))\n",
    "\n",
    "pro_accuracies <- pro_fit |> collect_metrics() |>\n",
    "  filter(.metric == \"accuracy\")\n",
    "pro_cross_val_plot <- ggplot(pro_accuracies, aes(x = neighbors, y = mean)) +\n",
    "    geom_point() +\n",
    "    geom_line() +\n",
    "    labs(x = \"Neighbors\", y = \"Accuracy Estimate\", title = \"Pro Accuracies\") +\n",
    "    theme(text = element_text(size = 12))\n",
    "\n",
    "beginner_cross_val_plot\n",
    "regular_cross_val_plot\n",
    "amateur_cross_val_plot\n",
    "veteran_cross_val_plot\n",
    "pro_cross_val_plot"
   ]
  },
  {
   "cell_type": "markdown",
   "id": "c76ca75b-58f5-4876-9711-51616b859eb3",
   "metadata": {},
   "source": [
    "- #### Retraining Specification Model Using Best K\n",
    "    - Here we create new specifications for each player type-specific model using the best k value derived from the previous step.\n",
    "    - This will be the specification that we will use to train the final classification model for each player type. "
   ]
  },
  {
   "cell_type": "code",
   "execution_count": null,
   "id": "86537436-f119-4981-b38f-960bc94d7666",
   "metadata": {},
   "outputs": [],
   "source": [
    "# Retrain model using best k\n",
    "set.seed(4923)\n",
    "beginner_mnist_spec <- nearest_neighbor(weight_func = \"rectangular\", neighbors = 3) |>\n",
    "    set_engine(\"kknn\") |>\n",
    "    set_mode(\"classification\")\n",
    "beginner_mnist_fit <- fit(beginner_mnist_spec, subscribe ~ played_hours + Age, data = beginner_train)\n",
    "\n",
    "regular_mnist_spec <- nearest_neighbor(weight_func = \"rectangular\", neighbors = 6) |>\n",
    "    set_engine(\"kknn\") |>\n",
    "    set_mode(\"classification\")\n",
    "regular_mnist_fit <- fit(regular_mnist_spec, subscribe ~ played_hours + Age, data = regular_train)\n",
    "\n",
    "amateur_mnist_spec <- nearest_neighbor(weight_func = \"rectangular\", neighbors = 18) |>\n",
    "    set_engine(\"kknn\") |>\n",
    "    set_mode(\"classification\")\n",
    "amateur_mnist_fit <- fit(amateur_mnist_spec, subscribe ~ played_hours + Age, data = amateur_train)\n",
    "\n",
    "veteran_mnist_spec <- nearest_neighbor(weight_func = \"rectangular\", neighbors = 20) |>\n",
    "    set_engine(\"kknn\") |>\n",
    "    set_mode(\"classification\")\n",
    "veteran_mnist_fit <- fit(veteran_mnist_spec, subscribe ~ played_hours + Age, data = veteran_train)\n",
    "\n",
    "pro_mnist_spec <- nearest_neighbor(weight_func = \"rectangular\", neighbors = 4) |>\n",
    "    set_engine(\"kknn\") |>\n",
    "    set_mode(\"classification\")\n",
    "pro_mnist_fit <- fit(pro_mnist_spec, subscribe ~ played_hours + Age, data = pro_train)"
   ]
  },
  {
   "cell_type": "markdown",
   "id": "73b71d96-07d2-409d-8e3a-ae37607016b8",
   "metadata": {},
   "source": [
    "- #### Determine Final Accuracies\n",
    "    - Here, we use each model we created for each player type and make predictions for the test datasets that we split earlier."
   ]
  },
  {
   "cell_type": "code",
   "execution_count": null,
   "id": "5458d3d4-3139-4096-a26f-5d6fedd3f9cd",
   "metadata": {},
   "outputs": [],
   "source": [
    "# See results and accuracies\n",
    "set.seed(4923)\n",
    "beginner_mnist_predictions <- predict(beginner_mnist_fit, beginner_test) |> bind_cols(beginner_test)\n",
    "beginner_mnist_metrics <- beginner_mnist_predictions |> \n",
    "    metrics(truth = subscribe, estimate = .pred_class) |> \n",
    "    filter(.metric == \"accuracy\")\n",
    "\n",
    "regular_mnist_predictions <- predict(regular_mnist_fit, regular_test) |> bind_cols(regular_test)\n",
    "regular_mnist_metrics <- regular_mnist_predictions |> \n",
    "    metrics(truth = subscribe, estimate = .pred_class) |> \n",
    "    filter(.metric == \"accuracy\")\n",
    "\n",
    "amateur_mnist_predictions <- predict(amateur_mnist_fit, amateur_test) |> bind_cols(amateur_test)\n",
    "amateur_mnist_metrics <- amateur_mnist_predictions |> \n",
    "    metrics(truth = subscribe, estimate = .pred_class) |> \n",
    "    filter(.metric == \"accuracy\")\n",
    "\n",
    "veteran_mnist_predictions <- predict(veteran_mnist_fit, veteran_test) |> bind_cols(veteran_test)\n",
    "veteran_mnist_metrics <- veteran_mnist_predictions |> \n",
    "    metrics(truth = subscribe, estimate = .pred_class) |> \n",
    "    filter(.metric == \"accuracy\")\n",
    "\n",
    "pro_mnist_predictions <- predict(pro_mnist_fit, pro_test) |> bind_cols(pro_test)\n",
    "pro_mnist_metrics <- pro_mnist_predictions |> \n",
    "    metrics(truth = subscribe, estimate = .pred_class) |> \n",
    "    filter(.metric == \"accuracy\")"
   ]
  },
  {
   "cell_type": "code",
   "execution_count": null,
   "id": "1634eea7-935b-4973-8f5e-29634efc3727",
   "metadata": {},
   "outputs": [],
   "source": [
    "beginner_results <- beginner_mnist_metrics |> mutate(experience = \"beginner\")\n",
    "regular_results <- regular_mnist_metrics |> mutate(experience = \"regular\")\n",
    "amateur_results <- amateur_mnist_metrics |> mutate(experience = \"amateur\")\n",
    "veteran_results <- veteran_mnist_metrics |> mutate(experience = \"veteran\")\n",
    "pro_results <- pro_mnist_metrics |> mutate(experience = \"pro\")"
   ]
  },
  {
   "cell_type": "markdown",
   "id": "6de7d41b-186e-47b3-9200-1e236c4b175f",
   "metadata": {},
   "source": [
    "- ### Visualizating Results\n",
    "    - Here, the final accuracies of the predictions made for each player type are tabulated and graphed so that they can be compared side by side.\n",
    "    - The more accurate the prediction is, the better that player type is for predicting subscription status based on their played hours and age."
   ]
  },
  {
   "cell_type": "code",
   "execution_count": null,
   "id": "0f9d6526-9da2-4191-9351-4f0578a104b9",
   "metadata": {},
   "outputs": [],
   "source": [
    "total_metrics <- bind_rows(beginner_results, regular_results, amateur_results, veteran_results, pro_results) |> \n",
    "                mutate(accuracy = .estimate * 100, experience = as_factor(experience)) |>\n",
    "                select(experience, accuracy)\n",
    "total_metrics\n",
    "\n",
    "options(repr.plot.width = 10, repr.plot.height = 10)\n",
    "\n",
    "tidy_players_experience_plot <- total_metrics |>\n",
    "    ggplot(aes(x = accuracy, y = experience, fill = experience)) +\n",
    "    geom_bar(stat = \"identity\") +\n",
    "    labs(x = \"Accuracies in %\", y = \"Player Type\", fill = \"Player Type\") +\n",
    "    ggtitle(\"Predictability of Different Player Types (Fig. 3)\") +\n",
    "    theme(text = element_text(size = 18))\n",
    "\n",
    "tidy_players_experience_plot"
   ]
  },
  {
   "cell_type": "markdown",
   "id": "98c610d9-bd0e-46a2-a2e9-9a1d8ad2c066",
   "metadata": {},
   "source": [
    "## Discussion\n",
    "### Findings Summary\n",
    "Our final models showed that beginner, regular, and amateur players had the highest prediction accuracies, consistently reaching 70% or above. These results suggest that for players who are newer or moderately experienced, there is a clearer link between their in-game activity and their decision to subscribe to newsletters. These players may be more invested in learning and staying informed, which makes them more likely to sign up for game newsletters.\n",
    "However, our models didn’t work as well for pro and veteran players. The prediction accuracy for these groups was much lower, which suggests that their behaviour doesn’t clearly show whether they’ll subscribe or not. This matches something we noticed early in our analysis, even though we thought experienced players would be more engaged, they actually spent less time on the server. This could mean that their reasons for playing, or for subscribing, are very different from newer players.\n",
    "\n",
    "### Was it what we expected?\n",
    "I think this is what we expected to find for the regular and beginner players as it is more likely that beginner and regular players are more likely to subscribe to the newsletter if they have more hours played as it would mean that they are interested in the updates and content of the games and would like to be up to date with very new detail about the game. \n",
    "\n",
    "The strong performance for beginners and regular players met our expectations. These players are still learning and exploring the game, so it makes sense that they would want updates and news, which are things they can get through a newsletter.\n",
    "What surprised us was the lower accuracy for pro players. You might think that players who are really into the game would also want to stay connected and get updates, but our results, and our initial visualizations showed that this wasn’t the case. Pro players might already know the game well and don’t need updates, or they might get their news from other places like online forums or communities.\n",
    "Another point that stood out was that players with the most experience were spending the least amount of time on the server. This goes against the idea that more experience means more time spent playing. It may be that experienced players log in less often but play more efficiently, or they could be returning players who already know the game well and don’t need regular sessions.\n",
    "\n",
    "### What impacts does this finding have?\n",
    "These findings could inform how game developers and marketing teams design their player engagement strategies. For instance, newsletters may be most effective when targeted toward newer or average players who play regularly and are more likely to be interested in learning more about the game. Developers could even make different versions of the newsletter, for example, providing beginner tips for new players and advanced patch notes or balance changes for pros.\n",
    "For pro or veteran players, who are harder to predict and may not care about newsletters, developers could try other ways to keep them interested. This could include things like in-game messages, special events, or rewards for being active in the community.\n",
    "Our project also shows that even with a small dataset and just a few simple features, we can still find useful patterns. By using a basic model like KNN, we were able to learn something real about how different players interact with the game and what keeps them engaged.\n",
    "\n",
    "### What future questions could this lead to?\n",
    "This project brings up some interesting new questions we could look into next such as:\n",
    "- Can additional features improve accuracy? Things like how often players log in, how many sessions they have, what achievements they’ve earned, or even what they say in the chat might help us make better predictions.\n",
    "- Do players’ habits change over time? It would be useful to follow players over a longer period to see if beginners usually subscribe early on and then stop, or if pro players ever go back to using the newsletter.\n",
    "- Would other models work better? We used KNN, which is simple and easy to understand, but other methods like logistic regression could potentially offer better performance, especially for experience types with lower prediction accuracy.\n",
    "- Can we make things more personal? Can we build recommendation systems or  newsletter content based on each player’s behavior and interests based on these findings?\n",
    "This also could lead to the question of whether focusing only on beginner and regular players would significantly increase the number of players who subscribe to the newsletter.\n",
    "\n",
    "### Potential issues for future references\n",
    "One issue we ran into during this project was that some player experience groups didn’t have enough data. For example, there were fewer players in the pro and veteran categories compared to beginners or regulars. Because of this, our model didn’t have as much information to learn from, which likely made the predictions for those groups less accurate.\n",
    "\n",
    "When a dataset is small or unbalanced, it becomes harder for the model to recognize patterns. This can make the model either learn random details that don’t really matter (called overfitting), or not learn enough to make good predictions (called underfitting). In our case, the model worked well for groups with more data, but not as well for smaller ones. This means our results might not fully reflect how predictive the features are for every type of player.\n",
    "\n",
    "In future work, it would be helpful to collect more data, especially for underrepresented player types. Another option would be to use techniques like oversampling or data balancing methods to even out the number of examples in each group.\n",
    "\n",
    "Ultimately, this project highlights the potential of using player data not just to study gameplay, but to better understand player engagement, communication habits, and content preferences."
   ]
  }
 ],
 "metadata": {
  "kernelspec": {
   "display_name": "R",
   "language": "R",
   "name": "ir"
  },
  "language_info": {
   "codemirror_mode": "r",
   "file_extension": ".r",
   "mimetype": "text/x-r-source",
   "name": "R",
   "pygments_lexer": "r",
   "version": "4.3.3"
  }
 },
 "nbformat": 4,
 "nbformat_minor": 5
}
