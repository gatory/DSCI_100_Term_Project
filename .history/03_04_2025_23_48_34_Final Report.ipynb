{
 "cells": [
  {
   "cell_type": "markdown",
   "id": "70f89cf3-a990-429e-8645-d17cb0d46dbb",
   "metadata": {},
   "source": [
    "# Project Final Report (Group)\n"
   ]
  },
  {
   "cell_type": "markdown",
   "id": "efe9fec4-39c2-4e25-882d-b6f38c9b9577",
   "metadata": {},
   "source": [
    "## Introduction\n",
    "\n",
    "- provide some relevant background information on the topic so that someone unfamiliar with it will be prepared to understand the rest of your report\n",
    "- clearly state the question you tried to answer with your project\n",
    "- identify and fully describe the dataset that was used to answer the question"
   ]
  },
  {
   "cell_type": "markdown",
   "id": "f5d4392d-b9a5-406e-9416-4fe69e667117",
   "metadata": {},
   "source": [
    "## Methods & Results\n",
    "\n",
    "- describe the methods you used to perform your analysis from beginning to end that narrates the analysis code.\n",
    "- your report should include code which:\n",
    "    - loads data \n",
    "    - wrangles and cleans the data to the format necessary for the planned analysis\n",
    "    - performs a summary of the data set that is relevant for exploratory data analysis related to the planned analysis \n",
    "    - creates a visualization of the dataset that is relevant for exploratory data analysis related to the planned analysis\n",
    "    - performs the data analysis\n",
    "    - creates a visualization of the analysis \n",
    "note: all figures should have a figure number and a legend\n",
    "\n",
    "\n",
    "Can the the player type, age and played hours of players predict if they are going to subscribe to a game-related newsletter and which player type is the most predictive?"
   ]
  },
  {
   "cell_type": "code",
   "execution_count": null,
   "id": "3c9ab500-bd1c-4b04-a2d5-19e3ccf0cde3",
   "metadata": {},
   "outputs": [],
   "source": [
    "#Loading required libraries\n",
    "library(repr)\n",
    "library(tidyverse)\n",
    "library(tidymodels)"
   ]
  },
  {
   "cell_type": "code",
   "execution_count": null,
   "id": "b0e3c41a-5039-477f-ae51-46fae2b61d19",
   "metadata": {},
   "outputs": [],
   "source": [
    "#Read csv file\n",
    "player <- read_csv(\"data/players.csv\")\n",
    "slice_head(player, n=5)"
   ]
  },
  {
   "cell_type": "code",
   "execution_count": null,
   "id": "9b7b2aa1-89b9-4b3d-bbea-7c9d42def2c6",
   "metadata": {},
   "outputs": [],
   "source": [
    "#Wrangle unessccary data and re-assign data types\n",
    "tidy_player <- player |> \n",
    "    select(-hashedEmail, -gender, -name) |>\n",
    "    mutate(experience = as_factor(experience), subscribe = as_factor(subscribe)) |>\n",
    "    mutate(subscribe = recode(subscribe, \"TRUE\" = \"Yes\", \"FALSE\" = \"No\"))\n",
    "slice_head(tidy_player, n=5)"
   ]
  },
  {
   "cell_type": "code",
   "execution_count": null,
   "id": "434b50c7-98d9-4fb2-9274-7c2b95651e84",
   "metadata": {},
   "outputs": [],
   "source": [
    "#General Visualization\n",
    "options(repr.plot.width = 10, repr.plot.height = 8) \n",
    "tidy_player_age_plot <- tidy_player |>\n",
    "    ggplot(aes(x = Age, y = played_hours, color = subscribe)) +\n",
    "    geom_point(alpha = 0.9) + \n",
    "\tscale_x_log10() +\n",
    "    scale_y_log10() +\n",
    "    labs(x = \"Age (years)\", y = \"Hours Played (hours)\", color = \"Subscribed?\") +\n",
    "    ggtitle(\"Hours Played vs. Age Relationship\") +\n",
    "    theme(text = element_text(size = 18))\n",
    "\n",
    "tidy_players_experience_plot <- tidy_player |>\n",
    "    ggplot(aes(y = experience, fill = subscribe)) +\n",
    "    geom_bar(stat = \"count\") +\n",
    "    labs(x = \"Player Type\", y = \"Number of Players\", fill = \"Subscribed?\") +\n",
    "    ggtitle(\"Distribution of Players Across Experience and Subscription\") +\n",
    "    theme(text = element_text(size = 18))\n",
    "tidy_player_age_plot\n",
    "tidy_players_experience_plot"
   ]
  },
  {
   "cell_type": "code",
   "execution_count": null,
   "id": "1634eea7-935b-4973-8f5e-29634efc3727",
   "metadata": {},
   "outputs": [],
   "source": [
    "#Filter dataframe base off player type\n",
    "options(repr.plot.width = 5, repr.plot.height = 5) \n",
    "beginner_players <- tidy_player |> filter(experience == \"Beginner\")\n",
    "\n",
    "beginner_split <- initial_split(beginner_players, prop = 0.75, strata = subscribe)\n",
    "beginner_train <- training(beginner_split)\n",
    "beginner_test <- testing(beginner_split)\n",
    "\n",
    "knn_spec <- nearest_neighbor(weight_func = \"rectangular\", neighbors = tune()) |>\n",
    "    set_engine(\"kknn\") |>\n",
    "    set_mode(\"classification\")\n",
    "\n",
    "k_vals <- tibble(neighbors = seq(from = 1, to = 15, by = 1))\n",
    "\n",
    "beginner_vfold <- vfold_cv(beginner_train, v = 5, strata = subscribe)\n",
    "\n",
    "beginner_recipe <- recipe(subscribe ~ played_hours + Age, data = beginner_train) |>\n",
    "  step_scale(all_predictors()) |>\n",
    "  step_center(all_predictors())\n",
    "\n",
    "beginner_fit <- workflow() |>\n",
    "  add_recipe(beginner_recipe) |>\n",
    "  add_model(knn_spec) |>\n",
    "  tune_grid(resamples = beginner_vfold, grid = k_vals)\n",
    "\n",
    "accuracies <- beginner_fit |> collect_metrics() |>\n",
    "  filter(.metric == \"accuracy\")\n",
    "\n",
    "cross_val_plot <- ggplot(accuracies, aes(x = neighbors, y = mean)) +\n",
    "    geom_point() +\n",
    "    geom_line() +\n",
    "    labs(x = \"Neighbors\", y = \"Accuracy Estimate\") +\n",
    "    theme(text = element_text(size = 12))\n",
    "cross_val_plot"
   ]
  },
  {
   "cell_type": "code",
   "execution_count": null,
   "id": "c2ff0e6b-3b94-4f6f-80cb-b7551276202b",
   "metadata": {},
   "outputs": [],
   "source": [
    "regular_players <- tidy_player |> filter(experience == \"Regular\")\n",
    "amateur_players <- tidy_player |> filter(experience == \"Amateur\")\n",
    "veteran_players <- tidy_player |> filter(experience == \"Veteran\")\n",
    "pro_players <- tidy_player |> filter(experience == \"Pro\")"
   ]
  },
  {
   "cell_type": "markdown",
   "id": "98c610d9-bd0e-46a2-a2e9-9a1d8ad2c066",
   "metadata": {},
   "source": [
    "## Discussion\n",
    "\n",
    "- summarize what you found\n",
    "- discuss whether this is what you expected to find?\n",
    "- discuss what impact could such findings have?\n",
    "- discuss what future questions could this lead to?"
   ]
  },
  {
   "cell_type": "markdown",
   "id": "75567c95-8646-4805-9871-c7e97676e60c",
   "metadata": {},
   "source": [
    "## References\n",
    "- You may include references if necessary, as long as they all have a consistent citation style."
   ]
  },
  {
   "cell_type": "code",
   "execution_count": null,
   "id": "38cdacba-223d-404e-abd8-2ccdf8bf7d94",
   "metadata": {},
   "outputs": [],
   "source": []
  }
 ],
 "metadata": {
  "kernelspec": {
   "display_name": "R",
   "language": "R",
   "name": "ir"
  },
  "language_info": {
   "codemirror_mode": "r",
   "file_extension": ".r",
   "mimetype": "text/x-r-source",
   "name": "R",
   "pygments_lexer": "r",
   "version": "4.3.3"
  }
 },
 "nbformat": 4,
 "nbformat_minor": 5
}
