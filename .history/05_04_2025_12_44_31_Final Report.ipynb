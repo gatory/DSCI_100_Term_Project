{
 "cells": [
  {
   "cell_type": "markdown",
   "id": "70f89cf3-a990-429e-8645-d17cb0d46dbb",
   "metadata": {},
   "source": [
    "# Project Final Report (Group)\n"
   ]
  },
  {
   "cell_type": "markdown",
   "id": "efe9fec4-39c2-4e25-882d-b6f38c9b9577",
   "metadata": {},
   "source": [
    "## Introduction\n",
    "\n",
    "- provide some relevant background information on the topic so that someone unfamiliar with it will be prepared to understand the rest of your report\n",
    "- clearly state the question you tried to answer with your project\n",
    "- identify and fully describe the dataset that was used to answer the question"
   ]
  },
  {
   "cell_type": "markdown",
   "id": "f5d4392d-b9a5-406e-9416-4fe69e667117",
   "metadata": {},
   "source": [
    "## Methods & Results\n",
    "\n",
    "- describe the methods you used to perform your analysis from beginning to end that narrates the analysis code.\n",
    "- your report should include code which:\n",
    "    - loads data \n",
    "    - wrangles and cleans the data to the format necessary for the planned analysis\n",
    "    - performs a summary of the data set that is relevant for exploratory data analysis related to the planned analysis \n",
    "    - creates a visualization of the dataset that is relevant for exploratory data analysis related to the planned analysis\n",
    "    - performs the data analysis\n",
    "    - creates a visualization of the analysis \n",
    "note: all figures should have a figure number and a legend\n",
    "\n",
    "\n",
    "Can the the player type, age and played hours of players predict if they are going to subscribe to a game-related newsletter and which player type is the most predictive?"
   ]
  },
  {
   "cell_type": "markdown",
   "id": "672a3ecc-e184-4b1b-aed5-09262d5d3b21",
   "metadata": {},
   "source": [
    "- ### Loading Libraries"
   ]
  },
  {
   "cell_type": "markdown",
   "id": "97ae1367-c7ba-41bc-a141-63e308c706ca",
   "metadata": {},
   "source": [
    "Here, we load the repr, tidyverse, and tidymodels libraries using the library() function in order to use the specialized functions they provide for data manipulation, computation, and visualization."
   ]
  },
  {
   "cell_type": "code",
   "execution_count": null,
   "id": "3c9ab500-bd1c-4b04-a2d5-19e3ccf0cde3",
   "metadata": {},
   "outputs": [],
   "source": [
    "library(repr)\n",
    "library(tidyverse)\n",
    "library(tidymodels)"
   ]
  },
  {
   "cell_type": "markdown",
   "id": "5b2f9a94-31e3-47d9-a300-d1df366b7b4e",
   "metadata": {},
   "source": [
    "- ### Reading Data"
   ]
  },
  {
   "cell_type": "markdown",
   "id": "f8595ccc-bb37-4203-a17d-4b6cf1e47672",
   "metadata": {},
   "source": [
    "Here we read the \"players.csv\" dataset using the read_csv() function and display the first five rows using the slice_head() function to ensure that the dataset was read properly."
   ]
  },
  {
   "cell_type": "code",
   "execution_count": null,
   "id": "b0e3c41a-5039-477f-ae51-46fae2b61d19",
   "metadata": {},
   "outputs": [],
   "source": [
    "player <- read_csv(\"https://raw.githubusercontent.com/gatory/DSCI_100_Term_Project/refs/heads/main/data/players.csv\")\n",
    "slice_head(player, n=5)"
   ]
  },
  {
   "cell_type": "markdown",
   "id": "e9563f13-4cbe-446f-ab52-fd33118f8e3f",
   "metadata": {},
   "source": [
    "Here, we remove data that is unnecessary for our purposes from the dataset (columns \"HashedEmail\", \"gender\" and \"name\") using the select() function and reassign the data from the \"subscribe\" variable to be a factor either yes or no using the mutate() function. We also display the first five rows using the slice_head() function to ensure that the dataset was altered properly."
   ]
  },
  {
   "cell_type": "code",
   "execution_count": null,
   "id": "9b7b2aa1-89b9-4b3d-bbea-7c9d42def2c6",
   "metadata": {},
   "outputs": [],
   "source": [
    "tidy_player <- player |> \n",
    "    select(-hashedEmail, -gender, -name) |>\n",
    "    mutate(experience = as_factor(experience), subscribe = as_factor(subscribe)) |>\n",
    "    mutate(subscribe = recode(subscribe, \"TRUE\" = \"Yes\", \"FALSE\" = \"No\"))\n",
    "slice_head(tidy_player, n=5)"
   ]
  },
  {
   "cell_type": "markdown",
   "id": "e04516ae-685b-4871-942f-175a922efe7f",
   "metadata": {},
   "source": [
    "Here we display a general summary of the new dataset using the summarize() function to calculate the average hours played by all players as well as the average age of all players."
   ]
  },
  {
   "cell_type": "code",
   "execution_count": null,
   "id": "1260863e-ff35-434d-a9ed-a7106de86acf",
   "metadata": {},
   "outputs": [],
   "source": [
    "tidy_player_mean <- tidy_player |> summarize(player_hours_mean = mean(played_hours, na.rm = TRUE), age_mean = mean(Age, na.rm = TRUE))\n",
    "tidy_player_mean"
   ]
  },
  {
   "cell_type": "markdown",
   "id": "81eafad6-5997-4265-acab-0416a9d245e4",
   "metadata": {},
   "source": [
    "Here we display two graphs using the ggplot() function. The first is a scatterplot titled \"Hours Played vs. Age Relationship\" and shows the hours played of all players over the age of all players. The second is a bar graph titled \"Distribution of Players Across Experience and Subscription\" and shows the relative amount of players subscribed across all player types."
   ]
  },
  {
   "cell_type": "code",
   "execution_count": null,
   "id": "434b50c7-98d9-4fb2-9274-7c2b95651e84",
   "metadata": {},
   "outputs": [],
   "source": [
    "options(repr.plot.width = 10, repr.plot.height = 8) \n",
    "tidy_player_age_plot <- tidy_player |>\n",
    "    ggplot(aes(x = Age, y = played_hours, color = subscribe)) +\n",
    "    geom_point(alpha = 0.9) + \n",
    "\tscale_x_log10() +\n",
    "    scale_y_log10() +\n",
    "    labs(x = \"Age (years)\", y = \"Hours Played (hours)\", color = \"Subscribed?\") +\n",
    "    ggtitle(\"Hours Played vs. Age Relationship\") +\n",
    "    theme(text = element_text(size = 18))\n",
    "\n",
    "tidy_players_experience_plot <- tidy_player |>\n",
    "    ggplot(aes(y = experience, fill = subscribe)) +\n",
    "    geom_bar(stat = \"count\") +\n",
    "    labs(x = \"Player Type\", y = \"Number of Players\", fill = \"Subscribed?\") +\n",
    "    ggtitle(\"Distribution of Players Across Experience and Subscription\") +\n",
    "    theme(text = element_text(size = 18))\n",
    "tidy_player_age_plot\n",
    "tidy_players_experience_plot"
   ]
  },
  {
   "cell_type": "markdown",
   "id": "b873284e-4610-4e19-9841-c9b82f4326c8",
   "metadata": {},
   "source": [
    "- ### Modeling Classification Models"
   ]
  },
  {
   "cell_type": "markdown",
   "id": "0556933d-2693-4d3d-b972-d7ec1d2aaa3d",
   "metadata": {},
   "source": [
    "- #### Universal Tuning Specifications for Subscription Prediction"
   ]
  },
  {
   "cell_type": "markdown",
   "id": "02b9d9ff-459c-4601-8594-0f4075b912a8",
   "metadata": {},
   "source": [
    "Here we use the nearest_neighbors() function to create the specifications that we will later use to tune all the individual player type models."
   ]
  },
  {
   "cell_type": "code",
   "execution_count": null,
   "id": "737a4727-2400-4653-a516-bd0bf976c3c1",
   "metadata": {},
   "outputs": [],
   "source": [
    "set.seed(4923)\n",
    "knn_spec <- nearest_neighbor(weight_func = \"rectangular\", neighbors = tune()) |>\n",
    "    set_engine(\"kknn\") |>\n",
    "    set_mode(\"classification\")"
   ]
  },
  {
   "cell_type": "markdown",
   "id": "6c82f54e-84d2-4bb8-a134-4a2e18307277",
   "metadata": {},
   "source": [
    "- #### Filter and Split Datasets"
   ]
  },
  {
   "cell_type": "markdown",
   "id": "d528a749-7eda-4fd8-a151-0da187cbb993",
   "metadata": {},
   "source": [
    "Here we use the filter() function to select only the rows for each player type and assign them to individual data sets. Then for each set, we split the data into training and testing sets so that our model will not see the data that will be used to test it."
   ]
  },
  {
   "cell_type": "code",
   "execution_count": null,
   "id": "11200293-d17a-4d83-8cf4-cad614701e92",
   "metadata": {},
   "outputs": [],
   "source": [
    "set.seed(4923)\n",
    "beginner_players <- tidy_player |> filter(experience == \"Beginner\")\n",
    "beginner_split <- initial_split(beginner_players, prop = 0.75, strata = subscribe)\n",
    "beginner_train <- training(beginner_split)\n",
    "beginner_test <- testing(beginner_split)\n",
    "\n",
    "regular_players <- tidy_player |> filter(experience == \"Regular\")\n",
    "regular_split <- initial_split(regular_players, prop = 0.75, strata = subscribe)\n",
    "regular_train <- training(regular_split)\n",
    "regular_test <- testing(regular_split)\n",
    "\n",
    "amateur_players <- tidy_player |> filter(experience == \"Amateur\")\n",
    "amateur_split <- initial_split(amateur_players, prop = 0.75, strata = subscribe)\n",
    "amateur_train <- training(amateur_split)\n",
    "amateur_test <- testing(amateur_split)\n",
    "\n",
    "veteran_players <- tidy_player |> filter(experience == \"Veteran\")\n",
    "veteran_split <- initial_split(veteran_players, prop = 0.75, strata = subscribe)\n",
    "veteran_train <- training(veteran_split)\n",
    "veteran_test <- testing(veteran_split)\n",
    "\n",
    "pro_players <- tidy_player |> filter(experience == \"Pro\") |> na.omit()\n",
    "pro_split <- initial_split(pro_players, prop = 0.75, strata = subscribe)\n",
    "pro_train <- training(pro_split)\n",
    "pro_test <- testing(pro_split)"
   ]
  },
  {
   "cell_type": "markdown",
   "id": "9b5c5338-6f73-41a7-9c05-ee4084d09bfd",
   "metadata": {},
   "source": [
    "- #### Folding 5 Folds for each player type"
   ]
  },
  {
   "cell_type": "markdown",
   "id": "02b676c8-228b-44e2-8a26-c8f80864cd37",
   "metadata": {},
   "source": [
    "Here we use the vfold_cv() to make 5 folds for each player type."
   ]
  },
  {
   "cell_type": "code",
   "execution_count": null,
   "id": "dfc1faa2-4428-408d-a3aa-5adf819b052f",
   "metadata": {},
   "outputs": [],
   "source": [
    "set.seed(4923)\n",
    "beginner_vfold <- vfold_cv(beginner_train, v = 5, strata = subscribe)\n",
    "regular_vfold <- vfold_cv(regular_train, v = 5, strata = subscribe)\n",
    "amateur_vfold <- vfold_cv(amateur_train, v = 5, strata = subscribe)\n",
    "veteran_vfold <- vfold_cv(veteran_train, v = 5, strata = subscribe)\n",
    "pro_vfold <- vfold_cv(pro_train, v = 5, strata = subscribe)"
   ]
  },
  {
   "cell_type": "markdown",
   "id": "d20778c3-02be-4521-92aa-7cd43a759f4c",
   "metadata": {},
   "source": [
    "- #### Tuning Model using a suitable range of Ks"
   ]
  },
  {
   "cell_type": "markdown",
   "id": "e8022cbe-2aa0-49b6-a361-9042005a9771",
   "metadata": {},
   "source": [
    "Here, we find a suitable range for k based on how many observations exist for each player type. Because each of the player types has a different number of observations, we use the largest range of k-values possible so that we can give each player type the best possible k value once that value is determined."
   ]
  },
  {
   "cell_type": "code",
   "execution_count": null,
   "id": "fec07ce5-9ff6-4c07-8432-8aeba7b7b7a6",
   "metadata": {},
   "outputs": [],
   "source": [
    "# Tune for best k given proper range\n",
    "set.seed(4923)\n",
    "beginner_k_vals <- tibble(neighbors = seq(from = 1, to = 10, by = 1))\n",
    "beginner_recipe <- recipe(subscribe ~ played_hours + Age, data = beginner_train) |>\n",
    "  step_scale(all_predictors()) |>\n",
    "  step_center(all_predictors())\n",
    "beginner_fit <- workflow() |>\n",
    "  add_recipe(beginner_recipe) |>\n",
    "  add_model(knn_spec) |>\n",
    "  tune_grid(resamples = beginner_vfold, grid = beginner_k_vals)\n",
    "\n",
    "regular_k_vals <- tibble(neighbors = seq(from = 1, to = 10, by = 1))\n",
    "regular_recipe <- recipe(subscribe ~ played_hours + Age, data = regular_train) |>\n",
    "  step_scale(all_predictors()) |>\n",
    "  step_center(all_predictors())\n",
    "regular_fit <- workflow() |>\n",
    "  add_recipe(regular_recipe) |>\n",
    "  add_model(knn_spec) |>\n",
    "  tune_grid(resamples = regular_vfold, grid = regular_k_vals)\n",
    "\n",
    "amateur_k_vals <- tibble(neighbors = seq(from = 1, to = 20, by = 1))\n",
    "amateur_recipe <- recipe(subscribe ~ played_hours + Age, data = amateur_train) |>\n",
    "  step_scale(all_predictors()) |>\n",
    "  step_center(all_predictors())\n",
    "amateur_fit <- workflow() |>\n",
    "  add_recipe(amateur_recipe) |>\n",
    "  add_model(knn_spec) |>\n",
    "  tune_grid(resamples = amateur_vfold, grid = amateur_k_vals)\n",
    "\n",
    "veteran_k_vals <- tibble(neighbors = seq(from = 1, to = 22, by = 1))\n",
    "veteran_recipe <- recipe(subscribe ~ played_hours + Age, data = veteran_train) |>\n",
    "  step_scale(all_predictors()) |>\n",
    "  step_center(all_predictors())\n",
    "veteran_fit <- workflow() |>\n",
    "  add_recipe(veteran_recipe) |>\n",
    "  add_model(knn_spec) |>\n",
    "  tune_grid(resamples = veteran_vfold, grid = veteran_k_vals)\n",
    "\n",
    "pro_k_vals <- tibble(neighbors = seq(from = 1, to = 6, by = 1))\n",
    "pro_recipe <- recipe(subscribe ~ played_hours + Age, data = pro_train) |>\n",
    "  step_scale(all_predictors()) |>\n",
    "  step_center(all_predictors())\n",
    "pro_fit <- workflow() |>\n",
    "  add_recipe(pro_recipe) |>\n",
    "  add_model(knn_spec) |>\n",
    "  tune_grid(resamples = pro_vfold, grid = pro_k_vals)"
   ]
  },
  {
   "cell_type": "markdown",
   "id": "da5d6e59-0f40-4c9a-84f4-a2fe7ef0a29a",
   "metadata": {},
   "source": [
    "- #### Analyzing Accuries and Picking Best K"
   ]
  },
  {
   "cell_type": "markdown",
   "id": "4c31e7fa-25ee-4105-a1cf-a5b3506b74e3",
   "metadata": {},
   "source": [
    "Here, we analyze the accuracies of the predictions made using each k value in each range for each player type. Based on the accuracy for each k value, we can choose the best one to use in our final model that we will test using the test data."
   ]
  },
  {
   "cell_type": "code",
   "execution_count": null,
   "id": "d89a566c-354a-4563-942e-1b6a0861ec02",
   "metadata": {},
   "outputs": [],
   "source": [
    "# Analyze for best k\n",
    "options(repr.plot.width = 5, repr.plot.height = 5)\n",
    "set.seed(4923)\n",
    "beginner_accuracies <- beginner_fit |> collect_metrics() |>\n",
    "  filter(.metric == \"accuracy\")\n",
    "beginner_cross_val_plot <- ggplot(beginner_accuracies, aes(x = neighbors, y = mean)) +\n",
    "    geom_point() +\n",
    "    geom_line() +\n",
    "    labs(x = \"Neighbors\", y = \"Accuracy Estimate\", title = \"Beginner Accuracies\") +\n",
    "    theme(text = element_text(size = 12))\n",
    "\n",
    "regular_accuracies <- regular_fit |> collect_metrics() |>\n",
    "  filter(.metric == \"accuracy\")\n",
    "regular_cross_val_plot <- ggplot(regular_accuracies, aes(x = neighbors, y = mean)) +\n",
    "    geom_point() +\n",
    "    geom_line() +\n",
    "    labs(x = \"Neighbors\", y = \"Accuracy Estimate\", title = \"Regular Accuracies\") +\n",
    "    theme(text = element_text(size = 12))\n",
    "\n",
    "amateur_accuracies <- amateur_fit |> collect_metrics() |>\n",
    "  filter(.metric == \"accuracy\")\n",
    "amateur_cross_val_plot <- ggplot(amateur_accuracies, aes(x = neighbors, y = mean)) +\n",
    "    geom_point() +\n",
    "    geom_line() +\n",
    "    labs(x = \"Neighbors\", y = \"Accuracy Estimate\", title = \"Amateur Accuracies\") +\n",
    "    theme(text = element_text(size = 12))\n",
    "\n",
    "veteran_accuracies <- veteran_fit |> collect_metrics() |>\n",
    "  filter(.metric == \"accuracy\")\n",
    "veteran_cross_val_plot <- ggplot(veteran_accuracies, aes(x = neighbors, y = mean)) +\n",
    "    geom_point() +\n",
    "    geom_line() +\n",
    "    labs(x = \"Neighbors\", y = \"Accuracy Estimate\", title = \"Veteran Accuracies\") +\n",
    "    theme(text = element_text(size = 12))\n",
    "\n",
    "pro_accuracies <- pro_fit |> collect_metrics() |>\n",
    "  filter(.metric == \"accuracy\")\n",
    "pro_cross_val_plot <- ggplot(pro_accuracies, aes(x = neighbors, y = mean)) +\n",
    "    geom_point() +\n",
    "    geom_line() +\n",
    "    labs(x = \"Neighbors\", y = \"Accuracy Estimate\", title = \"Pro Accuracies\") +\n",
    "    theme(text = element_text(size = 12))\n",
    "\n",
    "beginner_cross_val_plot\n",
    "regular_cross_val_plot\n",
    "amateur_cross_val_plot\n",
    "veteran_cross_val_plot\n",
    "pro_cross_val_plot"
   ]
  },
  {
   "cell_type": "markdown",
   "id": "c76ca75b-58f5-4876-9711-51616b859eb3",
   "metadata": {},
   "source": [
    "- #### Retraining Specification Model Using Best K"
   ]
  },
  {
   "cell_type": "code",
   "execution_count": null,
   "id": "93835885-5769-4823-929a-f669d4023bfe",
   "metadata": {},
   "outputs": [],
   "source": [
    "Here we "
   ]
  },
  {
   "cell_type": "code",
   "execution_count": null,
   "id": "86537436-f119-4981-b38f-960bc94d7666",
   "metadata": {},
   "outputs": [],
   "source": [
    "# Retrain model using best k\n",
    "set.seed(4923)\n",
    "beginner_mnist_spec <- nearest_neighbor(weight_func = \"rectangular\", neighbors = 3) |>\n",
    "    set_engine(\"kknn\") |>\n",
    "    set_mode(\"classification\")\n",
    "beginner_mnist_fit <- fit(beginner_mnist_spec, subscribe ~ played_hours + Age, data = beginner_train)\n",
    "\n",
    "regular_mnist_spec <- nearest_neighbor(weight_func = \"rectangular\", neighbors = 6) |>\n",
    "    set_engine(\"kknn\") |>\n",
    "    set_mode(\"classification\")\n",
    "regular_mnist_fit <- fit(regular_mnist_spec, subscribe ~ played_hours + Age, data = regular_train)\n",
    "\n",
    "amateur_mnist_spec <- nearest_neighbor(weight_func = \"rectangular\", neighbors = 18) |>\n",
    "    set_engine(\"kknn\") |>\n",
    "    set_mode(\"classification\")\n",
    "amateur_mnist_fit <- fit(amateur_mnist_spec, subscribe ~ played_hours + Age, data = amateur_train)\n",
    "\n",
    "veteran_mnist_spec <- nearest_neighbor(weight_func = \"rectangular\", neighbors = 20) |>\n",
    "    set_engine(\"kknn\") |>\n",
    "    set_mode(\"classification\")\n",
    "veteran_mnist_fit <- fit(veteran_mnist_spec, subscribe ~ played_hours + Age, data = veteran_train)\n",
    "\n",
    "pro_mnist_spec <- nearest_neighbor(weight_func = \"rectangular\", neighbors = 4) |>\n",
    "    set_engine(\"kknn\") |>\n",
    "    set_mode(\"classification\")\n",
    "pro_mnist_fit <- fit(pro_mnist_spec, subscribe ~ played_hours + Age, data = pro_train)"
   ]
  },
  {
   "cell_type": "markdown",
   "id": "73b71d96-07d2-409d-8e3a-ae37607016b8",
   "metadata": {},
   "source": [
    "- #### Determine Final Accuracies"
   ]
  },
  {
   "cell_type": "code",
   "execution_count": null,
   "id": "5458d3d4-3139-4096-a26f-5d6fedd3f9cd",
   "metadata": {},
   "outputs": [],
   "source": [
    "# See results and accuracies\n",
    "set.seed(4923)\n",
    "beginner_mnist_predictions <- predict(beginner_mnist_fit, beginner_test) |> bind_cols(beginner_test)\n",
    "beginner_mnist_metrics <- beginner_mnist_predictions |> \n",
    "    metrics(truth = subscribe, estimate = .pred_class) |> \n",
    "    filter(.metric == \"accuracy\")\n",
    "\n",
    "regular_mnist_predictions <- predict(regular_mnist_fit, regular_test) |> bind_cols(regular_test)\n",
    "regular_mnist_metrics <- regular_mnist_predictions |> \n",
    "    metrics(truth = subscribe, estimate = .pred_class) |> \n",
    "    filter(.metric == \"accuracy\")\n",
    "\n",
    "amateur_mnist_predictions <- predict(amateur_mnist_fit, amateur_test) |> bind_cols(amateur_test)\n",
    "amateur_mnist_metrics <- amateur_mnist_predictions |> \n",
    "    metrics(truth = subscribe, estimate = .pred_class) |> \n",
    "    filter(.metric == \"accuracy\")\n",
    "\n",
    "veteran_mnist_predictions <- predict(veteran_mnist_fit, veteran_test) |> bind_cols(veteran_test)\n",
    "veteran_mnist_metrics <- veteran_mnist_predictions |> \n",
    "    metrics(truth = subscribe, estimate = .pred_class) |> \n",
    "    filter(.metric == \"accuracy\")\n",
    "\n",
    "pro_mnist_predictions <- predict(pro_mnist_fit, pro_test) |> bind_cols(pro_test)\n",
    "pro_mnist_metrics <- pro_mnist_predictions |> \n",
    "    metrics(truth = subscribe, estimate = .pred_class) |> \n",
    "    filter(.metric == \"accuracy\")"
   ]
  },
  {
   "cell_type": "code",
   "execution_count": null,
   "id": "1634eea7-935b-4973-8f5e-29634efc3727",
   "metadata": {},
   "outputs": [],
   "source": [
    "beginner_results <- beginner_mnist_metrics |> mutate(experience = \"beginner\")\n",
    "regular_results <- regular_mnist_metrics |> mutate(experience = \"regular\")\n",
    "amateur_results <- amateur_mnist_metrics |> mutate(experience = \"amateur\")\n",
    "veteran_results <- veteran_mnist_metrics |> mutate(experience = \"veteran\")\n",
    "pro_results <- pro_mnist_metrics |> mutate(experience = \"pro\")"
   ]
  },
  {
   "cell_type": "code",
   "execution_count": null,
   "id": "0f9d6526-9da2-4191-9351-4f0578a104b9",
   "metadata": {},
   "outputs": [],
   "source": [
    "# Finalize results and graph it\n",
    "total_metrics <- bind_rows(beginner_results, regular_results, amateur_results, veteran_results, pro_results) |> \n",
    "                mutate(accuracy = .estimate * 100, experience = as_factor(experience)) |>\n",
    "                select(experience, accuracy)\n",
    "total_metrics\n",
    "\n",
    "options(repr.plot.width = 10, repr.plot.height = 10)\n",
    "\n",
    "tidy_players_experience_plot <- total_metrics |>\n",
    "    ggplot(aes(x = accuracy, y = experience)) +\n",
    "    geom_bar(stat = \"identity\") +\n",
    "    labs(x = \"Accuracies in %\", y = \"Player Type\") +\n",
    "    ggtitle(\"Predictability of Different Player Types\") +\n",
    "    theme(text = element_text(size = 18))\n",
    "\n",
    "tidy_players_experience_plot"
   ]
  },
  {
   "cell_type": "markdown",
   "id": "98c610d9-bd0e-46a2-a2e9-9a1d8ad2c066",
   "metadata": {},
   "source": [
    "## Discussion\n",
    "\n",
    "- summarize what you found\n",
    "- discuss whether this is what you expected to find?\n",
    "- discuss what impact could such findings have?\n",
    "- discuss what future questions could this lead to?"
   ]
  },
  {
   "cell_type": "markdown",
   "id": "75567c95-8646-4805-9871-c7e97676e60c",
   "metadata": {},
   "source": [
    "## References\n",
    "- You may include references if necessary, as long as they all have a consistent citation style."
   ]
  },
  {
   "cell_type": "code",
   "execution_count": null,
   "id": "38cdacba-223d-404e-abd8-2ccdf8bf7d94",
   "metadata": {},
   "outputs": [],
   "source": []
  }
 ],
 "metadata": {
  "kernelspec": {
   "display_name": "R",
   "language": "R",
   "name": "ir"
  },
  "language_info": {
   "codemirror_mode": "r",
   "file_extension": ".r",
   "mimetype": "text/x-r-source",
   "name": "R",
   "pygments_lexer": "r",
   "version": "4.3.3"
  }
 },
 "nbformat": 4,
 "nbformat_minor": 5
}
