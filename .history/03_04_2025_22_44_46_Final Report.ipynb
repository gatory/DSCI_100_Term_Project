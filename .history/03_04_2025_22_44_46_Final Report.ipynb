{
 "cells": [
  {
   "cell_type": "markdown",
   "id": "70f89cf3-a990-429e-8645-d17cb0d46dbb",
   "metadata": {},
   "source": [
    "# Project Final Report (Group)\n"
   ]
  },
  {
   "cell_type": "markdown",
   "id": "efe9fec4-39c2-4e25-882d-b6f38c9b9577",
   "metadata": {},
   "source": [
    "## Introduction\n",
    "\n",
    "- provide some relevant background information on the topic so that someone unfamiliar with it will be prepared to understand the rest of your report\n",
    "- clearly state the question you tried to answer with your project\n",
    "- identify and fully describe the dataset that was used to answer the question"
   ]
  },
  {
   "cell_type": "markdown",
   "id": "f5d4392d-b9a5-406e-9416-4fe69e667117",
   "metadata": {},
   "source": [
    "## Methods & Results\n",
    "\n",
    "- describe the methods you used to perform your analysis from beginning to end that narrates the analysis code.\n",
    "- your report should include code which:\n",
    "    - loads data \n",
    "    - wrangles and cleans the data to the format necessary for the planned analysis\n",
    "    - performs a summary of the data set that is relevant for exploratory data analysis related to the planned analysis \n",
    "    - creates a visualization of the dataset that is relevant for exploratory data analysis related to the planned analysis\n",
    "    - performs the data analysis\n",
    "    - creates a visualization of the analysis \n",
    "note: all figures should have a figure number and a legend"
   ]
  },
  {
   "cell_type": "code",
   "execution_count": null,
   "id": "3c9ab500-bd1c-4b04-a2d5-19e3ccf0cde3",
   "metadata": {},
   "outputs": [],
   "source": []
  },
  {
   "cell_type": "markdown",
   "id": "98c610d9-bd0e-46a2-a2e9-9a1d8ad2c066",
   "metadata": {},
   "source": [
    "## Discussion\n",
    "\n",
    "- summarize what you found\n",
    "- discuss whether this is what you expected to find?\n",
    "- discuss what impact could such findings have?\n",
    "- discuss what future questions could this lead to?"
   ]
  },
  {
   "cell_type": "markdown",
   "id": "75567c95-8646-4805-9871-c7e97676e60c",
   "metadata": {},
   "source": [
    "## References\n",
    "- You may include references if necessary, as long as they all have a consistent citation style."
   ]
  },
  {
   "cell_type": "code",
   "execution_count": null,
   "id": "38cdacba-223d-404e-abd8-2ccdf8bf7d94",
   "metadata": {},
   "outputs": [],
   "source": []
  }
 ],
 "metadata": {
  "kernelspec": {
   "display_name": "R",
   "language": "R",
   "name": "ir"
  },
  "language_info": {
   "codemirror_mode": "r",
   "file_extension": ".r",
   "mimetype": "text/x-r-source",
   "name": "R",
   "pygments_lexer": "r",
   "version": "4.3.3"
  }
 },
 "nbformat": 4,
 "nbformat_minor": 5
}
