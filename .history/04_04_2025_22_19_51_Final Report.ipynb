{
 "cells": [
  {
   "cell_type": "markdown",
   "id": "70f89cf3-a990-429e-8645-d17cb0d46dbb",
   "metadata": {},
   "source": [
    "# Project Final Report (Group)\n"
   ]
  },
  {
   "cell_type": "markdown",
   "id": "efe9fec4-39c2-4e25-882d-b6f38c9b9577",
   "metadata": {},
   "source": [
    "## Introduction\n",
    "\n",
    "- provide some relevant background information on the topic so that someone unfamiliar with it will be prepared to understand the rest of your report\n",
    "- clearly state the question you tried to answer with your project\n",
    "- identify and fully describe the dataset that was used to answer the question"
   ]
  },
  {
   "cell_type": "markdown",
   "id": "f5d4392d-b9a5-406e-9416-4fe69e667117",
   "metadata": {},
   "source": [
    "## Methods & Results\n",
    "\n",
    "- describe the methods you used to perform your analysis from beginning to end that narrates the analysis code.\n",
    "- your report should include code which:\n",
    "    - loads data \n",
    "    - wrangles and cleans the data to the format necessary for the planned analysis\n",
    "    - performs a summary of the data set that is relevant for exploratory data analysis related to the planned analysis \n",
    "    - creates a visualization of the dataset that is relevant for exploratory data analysis related to the planned analysis\n",
    "    - performs the data analysis\n",
    "    - creates a visualization of the analysis \n",
    "note: all figures should have a figure number and a legend\n",
    "\n",
    "\n",
    "Can the the player type, age and played hours of players predict if they are going to subscribe to a game-related newsletter and which player type is the most predictive?"
   ]
  },
  {
   "cell_type": "code",
   "execution_count": null,
   "id": "3c9ab500-bd1c-4b04-a2d5-19e3ccf0cde3",
   "metadata": {},
   "outputs": [],
   "source": [
    "#Loading required libraries\n",
    "library(repr)\n",
    "library(tidyverse)\n",
    "library(tidymodels)"
   ]
  },
  {
   "cell_type": "code",
   "execution_count": null,
   "id": "b0e3c41a-5039-477f-ae51-46fae2b61d19",
   "metadata": {},
   "outputs": [],
   "source": [
    "#Read csv file\n",
    "player <- read_csv(\"data/players.csv\")\n",
    "slice_head(player, n=5)"
   ]
  },
  {
   "cell_type": "code",
   "execution_count": null,
   "id": "9b7b2aa1-89b9-4b3d-bbea-7c9d42def2c6",
   "metadata": {},
   "outputs": [],
   "source": [
    "#Wrangle unessccary data and re-assign data types\n",
    "tidy_player <- player |> \n",
    "    select(-hashedEmail, -gender, -name) |>\n",
    "    mutate(experience = as_factor(experience), subscribe = as_factor(subscribe)) |>\n",
    "    mutate(subscribe = recode(subscribe, \"TRUE\" = \"Yes\", \"FALSE\" = \"No\"))\n",
    "slice_head(tidy_player, n=5)"
   ]
  },
  {
   "cell_type": "code",
   "execution_count": null,
   "id": "434b50c7-98d9-4fb2-9274-7c2b95651e84",
   "metadata": {},
   "outputs": [],
   "source": [
    "#General Visualization\n",
    "options(repr.plot.width = 10, repr.plot.height = 8) \n",
    "tidy_player_age_plot <- tidy_player |>\n",
    "    ggplot(aes(x = Age, y = played_hours, color = subscribe)) +\n",
    "    geom_point(alpha = 0.9) + \n",
    "\tscale_x_log10() +\n",
    "    scale_y_log10() +\n",
    "    labs(x = \"Age (years)\", y = \"Hours Played (hours)\", color = \"Subscribed?\") +\n",
    "    ggtitle(\"Hours Played vs. Age Relationship\") +\n",
    "    theme(text = element_text(size = 18))\n",
    "\n",
    "tidy_players_experience_plot <- tidy_player |>\n",
    "    ggplot(aes(y = experience, fill = subscribe)) +\n",
    "    geom_bar(stat = \"count\") +\n",
    "    labs(x = \"Player Type\", y = \"Number of Players\", fill = \"Subscribed?\") +\n",
    "    ggtitle(\"Distribution of Players Across Experience and Subscription\") +\n",
    "    theme(text = element_text(size = 18))\n",
    "tidy_player_age_plot\n",
    "tidy_players_experience_plot"
   ]
  },
  {
   "cell_type": "code",
   "execution_count": null,
   "id": "9c40b2f9-352b-4c79-93ed-6e4a846c034c",
   "metadata": {},
   "outputs": [],
   "source": [
    "# For tuning\n",
    "set.seed(4923)\n",
    "knn_spec <- nearest_neighbor(weight_func = \"rectangular\", neighbors = tune()) |>\n",
    "    set_engine(\"kknn\") |>\n",
    "    set_mode(\"classification\")"
   ]
  },
  {
   "cell_type": "code",
   "execution_count": null,
   "id": "11200293-d17a-4d83-8cf4-cad614701e92",
   "metadata": {},
   "outputs": [],
   "source": [
    "#Filter for each player type and split between training and testing sets\n",
    "set.seed(4923)\n",
    "beginner_players <- tidy_player |> filter(experience == \"Beginner\")\n",
    "beginner_split <- initial_split(beginner_players, prop = 0.75, strata = subscribe)\n",
    "beginner_train <- training(beginner_split)\n",
    "beginner_test <- testing(beginner_split)\n",
    "\n",
    "regular_players <- tidy_player |> filter(experience == \"Regular\")\n",
    "regular_split <- initial_split(regular_players, prop = 0.75, strata = subscribe)\n",
    "regular_train <- training(regular_split)\n",
    "regular_test <- testing(regular_split)\n",
    "\n",
    "amateur_players <- tidy_player |> filter(experience == \"Amateur\")\n",
    "amateur_split <- initial_split(amateur_players, prop = 0.75, strata = subscribe)\n",
    "amateur_train <- training(amateur_split)\n",
    "amateur_test <- testing(amateur_split)\n",
    "\n",
    "veteran_players <- tidy_player |> filter(experience == \"Veteran\")\n",
    "veteran_split <- initial_split(veteran_players, prop = 0.75, strata = subscribe)\n",
    "veteran_train <- training(veteran_split)\n",
    "veteran_test <- testing(veteran_split)\n",
    "\n",
    "pro_players <- tidy_player |> filter(experience == \"Pro\")\n",
    "pro_split <- initial_split(pro_players, prop = 0.75, strata = subscribe)\n",
    "pro_train <- training(pro_split)\n",
    "pro_test <- testing(pro_split)"
   ]
  },
  {
   "cell_type": "code",
   "execution_count": null,
   "id": "dfc1faa2-4428-408d-a3aa-5adf819b052f",
   "metadata": {},
   "outputs": [],
   "source": [
    "# Create vfold for each player type\n",
    "set.seed(4923)\n",
    "beginner_vfold <- vfold_cv(beginner_train, v = 5, strata = subscribe)\n",
    "regular_vfold <- vfold_cv(regular_train, v = 5, strata = subscribe)\n",
    "amateur_vfold <- vfold_cv(amateur_train, v = 5, strata = subscribe)\n",
    "veteran_vfold <- vfold_cv(veteran_train, v = 5, strata = subscribe)\n",
    "pro_vfold <- vfold_cv(pro_train, v = 5, strata = subscribe)"
   ]
  },
  {
   "cell_type": "code",
   "execution_count": null,
   "id": "fec07ce5-9ff6-4c07-8432-8aeba7b7b7a6",
   "metadata": {},
   "outputs": [],
   "source": [
    "# Tune for best k given proper range\n",
    "set.seed(4923)\n",
    "beginner_k_vals <- tibble(neighbors = seq(from = 1, to = 10, by = 1))\n",
    "beginner_recipe <- recipe(subscribe ~ played_hours + Age, data = beginner_train) |>\n",
    "  step_scale(all_predictors()) |>\n",
    "  step_center(all_predictors())\n",
    "beginner_fit <- workflow() |>\n",
    "  add_recipe(beginner_recipe) |>\n",
    "  add_model(knn_spec) |>\n",
    "  tune_grid(resamples = beginner_vfold, grid = beginner_k_vals)\n",
    "\n",
    "regular_k_vals <- tibble(neighbors = seq(from = 1, to = 10, by = 1))\n",
    "regular_recipe <- recipe(subscribe ~ played_hours + Age, data = regular_train) |>\n",
    "  step_scale(all_predictors()) |>\n",
    "  step_center(all_predictors())\n",
    "regular_fit <- workflow() |>\n",
    "  add_recipe(regular_recipe) |>\n",
    "  add_model(knn_spec) |>\n",
    "  tune_grid(resamples = regular_vfold, grid = regular_k_vals)\n",
    "\n",
    "amateur_k_vals <- tibble(neighbors = seq(from = 1, to = 20, by = 1))\n",
    "amateur_recipe <- recipe(subscribe ~ played_hours + Age, data = amateur_train) |>\n",
    "  step_scale(all_predictors()) |>\n",
    "  step_center(all_predictors())\n",
    "amateur_fit <- workflow() |>\n",
    "  add_recipe(amateur_recipe) |>\n",
    "  add_model(knn_spec) |>\n",
    "  tune_grid(resamples = amateur_vfold, grid = amateur_k_vals)\n",
    "\n",
    "veteran_k_vals <- tibble(neighbors = seq(from = 1, to = 22, by = 1))\n",
    "veteran_recipe <- recipe(subscribe ~ played_hours + Age, data = veteran_train) |>\n",
    "  step_scale(all_predictors()) |>\n",
    "  step_center(all_predictors())\n",
    "veteran_fit <- workflow() |>\n",
    "  add_recipe(veteran_recipe) |>\n",
    "  add_model(knn_spec) |>\n",
    "  tune_grid(resamples = veteran_vfold, grid = veteran_k_vals)\n",
    "\n",
    "pro_k_vals <- tibble(neighbors = seq(from = 1, to = 6, by = 1))\n",
    "pro_recipe <- recipe(subscribe ~ played_hours + Age, data = pro_train) |>\n",
    "  step_scale(all_predictors()) |>\n",
    "  step_center(all_predictors())\n",
    "pro_fit <- workflow() |>\n",
    "  add_recipe(pro_recipe) |>\n",
    "  add_model(knn_spec) |>\n",
    "  tune_grid(resamples = pro_vfold, grid = pro_k_vals)"
   ]
  },
  {
   "cell_type": "code",
   "execution_count": null,
   "id": "d89a566c-354a-4563-942e-1b6a0861ec02",
   "metadata": {},
   "outputs": [],
   "source": [
    "# Analyze for best k\n",
    "set.seed(4923)\n",
    "beginner_accuracies <- beginner_fit |> collect_metrics() |>\n",
    "  filter(.metric == \"accuracy\")\n",
    "beginner_cross_val_plot <- ggplot(beginner_accuracies, aes(x = neighbors, y = mean)) +\n",
    "    geom_point() +\n",
    "    geom_line() +\n",
    "    labs(x = \"Neighbors\", y = \"Accuracy Estimate\", title = \"Beginner Accuracies\") +\n",
    "    theme(text = element_text(size = 12))\n",
    "\n",
    "regular_accuracies <- regular_fit |> collect_metrics() |>\n",
    "  filter(.metric == \"accuracy\")\n",
    "regular_cross_val_plot <- ggplot(regular_accuracies, aes(x = neighbors, y = mean)) +\n",
    "    geom_point() +\n",
    "    geom_line() +\n",
    "    labs(x = \"Neighbors\", y = \"Accuracy Estimate\", title = \"Regular Accuracies\") +\n",
    "    theme(text = element_text(size = 12))\n",
    "\n",
    "amateur_accuracies <- amateur_fit |> collect_metrics() |>\n",
    "  filter(.metric == \"accuracy\")\n",
    "amateur_cross_val_plot <- ggplot(amateur_accuracies, aes(x = neighbors, y = mean)) +\n",
    "    geom_point() +\n",
    "    geom_line() +\n",
    "    labs(x = \"Neighbors\", y = \"Accuracy Estimate\", title = \"Amateur Accuracies\") +\n",
    "    theme(text = element_text(size = 12))\n",
    "\n",
    "veteran_accuracies <- veteran_fit |> collect_metrics() |>\n",
    "  filter(.metric == \"accuracy\")\n",
    "veteran_cross_val_plot <- ggplot(veteran_accuracies, aes(x = neighbors, y = mean)) +\n",
    "    geom_point() +\n",
    "    geom_line() +\n",
    "    labs(x = \"Neighbors\", y = \"Accuracy Estimate\", title = \"Veteran Accuracies\") +\n",
    "    theme(text = element_text(size = 12))\n",
    "\n",
    "pro_accuracies <- pro_fit |> collect_metrics() |>\n",
    "  filter(.metric == \"accuracy\")\n",
    "pro_cross_val_plot <- ggplot(pro_accuracies, aes(x = neighbors, y = mean)) +\n",
    "    geom_point() +\n",
    "    geom_line() +\n",
    "    labs(x = \"Neighbors\", y = \"Accuracy Estimate\", title = \"Pro Accuracies\") +\n",
    "    theme(text = element_text(size = 12))\n"
   ]
  },
  {
   "cell_type": "code",
   "execution_count": null,
   "id": "86537436-f119-4981-b38f-960bc94d7666",
   "metadata": {},
   "outputs": [],
   "source": [
    "# Retrain model using best k\n",
    "set.seed(4923)\n",
    "beginner_mnist_spec <- nearest_neighbor(weight_func = \"rectangular\", neighbors = 3) |>\n",
    "    set_engine(\"kknn\") |>\n",
    "    set_mode(\"classification\")\n",
    "beginner_mnist_fit <- fit(beginner_mnist_spec, subscribe ~ played_hours + Age, data = beginner_train)\n",
    "\n",
    "regular_mnist_spec <- nearest_neighbor(weight_func = \"rectangular\", neighbors = 6) |>\n",
    "    set_engine(\"kknn\") |>\n",
    "    set_mode(\"classification\")\n",
    "regular_mnist_fit <- fit(regular_mnist_spec, subscribe ~ played_hours + Age, data = regular_train)\n",
    "\n",
    "amateur_mnist_spec <- nearest_neighbor(weight_func = \"rectangular\", neighbors = 18) |>\n",
    "    set_engine(\"kknn\") |>\n",
    "    set_mode(\"classification\")\n",
    "amateur_mnist_fit <- fit(amateur_mnist_spec, subscribe ~ played_hours + Age, data = amateur_train)\n",
    "\n",
    "veteran_mnist_spec <- nearest_neighbor(weight_func = \"rectangular\", neighbors = 20) |>\n",
    "    set_engine(\"kknn\") |>\n",
    "    set_mode(\"classification\")\n",
    "veteran_mnist_fit <- fit(veteran_mnist_spec, subscribe ~ played_hours + Age, data = veteran_train)\n",
    "\n",
    "pro_mnist_spec <- nearest_neighbor(weight_func = \"rectangular\", neighbors = 3) |>\n",
    "    set_engine(\"kknn\") |>\n",
    "    set_mode(\"classification\")\n",
    "pro_mnist_fit <- fit(pro_mnist_spec, subscribe ~ played_hours + Age, data = pro_train)"
   ]
  },
  {
   "cell_type": "code",
   "execution_count": null,
   "id": "5458d3d4-3139-4096-a26f-5d6fedd3f9cd",
   "metadata": {},
   "outputs": [],
   "source": [
    "# See results and accuracies\n",
    "set.seed(4923)\n",
    "beginner_mnist_predictions <- predict(beginner_mnist_fit, beginner_test) |> bind_cols(beginner_test)\n",
    "beginner_mnist_metrics <- beginner_mnist_predictions |> \n",
    "    metrics(truth = subscribe, estimate = .pred_class) |> \n",
    "    filter(.metric == \"accuracy\")\n",
    "\n",
    "regular_mnist_predictions <- predict(regular_mnist_fit, regular_test) |> bind_cols(regular_test)\n",
    "regular_mnist_metrics <- regular_mnist_predictions |> \n",
    "    metrics(truth = subscribe, estimate = .pred_class) |> \n",
    "    filter(.metric == \"accuracy\")\n",
    "\n",
    "amateur_mnist_predictions <- predict(amateur_mnist_fit, amateur_test) |> bind_cols(amateur_test)\n",
    "amateur_mnist_metrics <- amateur_mnist_predictions |> \n",
    "    metrics(truth = subscribe, estimate = .pred_class) |> \n",
    "    filter(.metric == \"accuracy\")"
   ]
  },
  {
   "cell_type": "code",
   "execution_count": null,
   "id": "1634eea7-935b-4973-8f5e-29634efc3727",
   "metadata": {},
   "outputs": [],
   "source": [
    "#Beginner\n",
    "options(repr.plot.width = 5, repr.plot.height = 5)\n",
    "set.seed(4923)\n",
    "\n",
    "beginner_mnist_metrics"
   ]
  },
  {
   "cell_type": "code",
   "execution_count": null,
   "id": "c2ff0e6b-3b94-4f6f-80cb-b7551276202b",
   "metadata": {},
   "outputs": [],
   "source": [
    "#Regular\n",
    "options(repr.plot.width = 5, repr.plot.height = 5)\n",
    "set.seed(4923)\n",
    "\n",
    "\n",
    "\n",
    "\n",
    "regular_mnist_metrics"
   ]
  },
  {
   "cell_type": "code",
   "execution_count": null,
   "id": "a5d2e1d9-75e0-4085-9fa0-44c7b04d6072",
   "metadata": {},
   "outputs": [],
   "source": [
    "#Amateur\n",
    "options(repr.plot.width = 5, repr.plot.height = 5)\n",
    "set.seed(4923)\n",
    "\n",
    "\n",
    "\n",
    "\n",
    "\n",
    "\n",
    "\n",
    "\n",
    "\n",
    "amateur_mnist_metrics"
   ]
  },
  {
   "cell_type": "code",
   "execution_count": null,
   "id": "6a899b54-5489-4d74-ade9-de292507a829",
   "metadata": {},
   "outputs": [],
   "source": [
    "#Vetern\n",
    "options(repr.plot.width = 5, repr.plot.height = 5)\n",
    "set.seed(4923)\n",
    "\n",
    "\n",
    "\n",
    "\n",
    "\n",
    "\n",
    "\n",
    "\n",
    "\n",
    "veteran_mnist_metrics"
   ]
  },
  {
   "cell_type": "code",
   "execution_count": null,
   "id": "99ec7c46-068d-44ea-a5fa-a99d90aaf5fb",
   "metadata": {},
   "outputs": [],
   "source": [
    "#Pro\n",
    "options(repr.plot.width = 5, repr.plot.height = 5)\n",
    "set.seed(4923)\n",
    "\n",
    "\n",
    "pro_mnist_predictions <- predict(pro_mnist_fit, pro_test) |> bind_cols(pro_test)\n",
    "\n",
    "pro_mnist_metrics <- pro_mnist_predictions |> \n",
    "    metrics(truth = subscribe, estimate = .pred_class) |> \n",
    "    filter(.metric == \"accuracy\")\n",
    "\n",
    "pro_mnist_metrics"
   ]
  },
  {
   "cell_type": "markdown",
   "id": "98c610d9-bd0e-46a2-a2e9-9a1d8ad2c066",
   "metadata": {},
   "source": [
    "## Discussion\n",
    "\n",
    "- summarize what you found\n",
    "- discuss whether this is what you expected to find?\n",
    "- discuss what impact could such findings have?\n",
    "- discuss what future questions could this lead to?"
   ]
  },
  {
   "cell_type": "markdown",
   "id": "75567c95-8646-4805-9871-c7e97676e60c",
   "metadata": {},
   "source": [
    "## References\n",
    "- You may include references if necessary, as long as they all have a consistent citation style."
   ]
  },
  {
   "cell_type": "code",
   "execution_count": null,
   "id": "38cdacba-223d-404e-abd8-2ccdf8bf7d94",
   "metadata": {},
   "outputs": [],
   "source": []
  }
 ],
 "metadata": {
  "kernelspec": {
   "display_name": "R",
   "language": "R",
   "name": "ir"
  },
  "language_info": {
   "codemirror_mode": "r",
   "file_extension": ".r",
   "mimetype": "text/x-r-source",
   "name": "R",
   "pygments_lexer": "r",
   "version": "4.3.3"
  }
 },
 "nbformat": 4,
 "nbformat_minor": 5
}
